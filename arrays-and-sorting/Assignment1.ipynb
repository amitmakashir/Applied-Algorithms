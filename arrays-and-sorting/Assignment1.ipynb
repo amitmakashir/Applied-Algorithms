{
 "cells": [
  {
   "cell_type": "markdown",
   "metadata": {},
   "source": [
    "### Name: Amit Makashir \n",
    "### IU username: abmakash "
   ]
  },
  {
   "cell_type": "markdown",
   "metadata": {},
   "source": [
    "### Q1. \n",
    "Illustrate the operation of Insertion-sort algorithm on array\n",
    "A=<31,41,59,26,41,58>."
   ]
  },
  {
   "cell_type": "markdown",
   "metadata": {},
   "source": [
    "```python\n",
    "def insertionSort(A):\n",
    "    for i in range(len(A)):\n",
    "        j = i\n",
    "        while (j>0 and A[j-1]>A[j]):\n",
    "            swap(A[j],A[j-1])\n",
    "            j = j-1\n",
    "    return A\n",
    "```"
   ]
  },
  {
   "cell_type": "markdown",
   "metadata": {},
   "source": [
    "### Solution:\n",
    "We start by looping over the array.\n",
    "\n",
    "1. i=0, A[0]=31; As this is the first element of the array we will skip this element <br>\n",
    "    A=<31,41,59,26,41,58> <br>\n",
    "   \n",
    "2. i=1, A[1]=41; Check if this element is less than the previous elements. As 41>31 we will skip to the next iteration <br>\n",
    "    A=<31,41,59,26,41,58><br>\n",
    "    \n",
    "3. i=2, A[2]=59; As 59 is greater than the previous elements we will skip to the next iteration <br>\n",
    "    A=<31,41,59,26,41,58><br>\n",
    "    \n",
    "4. i=3, A[3]=26; As 26<59 we will swap these elements. <br>\n",
    "    A=<31,41,26,59,41,58> <br>\n",
    "    \n",
    "    As 26<41 we will swap again <br>\n",
    "    A=<31,26,41,59,41,58> <br>\n",
    "    \n",
    "    As 26<31 we will swap again <br>\n",
    "    A=<26,31,41,59,41,58> <br><br>\n",
    "    \n",
    "5. i=4, A[4]=41; As 41<59 we will swap these elements. <br>\n",
    "    A=<26,31,41,41,59,58> <br>\n",
    "    \n",
    "    As 41==41, we will skip to next iteration <br>\n",
    "    A=<26,31,41,41,59,58> <br><br>\n",
    "    \n",
    "6. i=5, A[5]=58; As 58<59 we will swap these elements. <br>\n",
    "    A=<26,31,41,41,58,59> <br>\n",
    "    \n",
    "After looping through each element we get a sorted array."
   ]
  },
  {
   "cell_type": "markdown",
   "metadata": {},
   "source": [
    "### Q2. \n",
    "The input to the algorithm Unknown illustrated below is an array A of N\n",
    "numbers. (1) what is the output of the algorithm? (2) using big-O notation to show\n",
    "the running time of the algorithm."
   ]
  },
  {
   "cell_type": "raw",
   "metadata": {},
   "source": [
    "Input: Array A of N numbers;\n",
    "Unknown(A)\n",
    "    for j = 1 to N-1\n",
    "        if A[N] < A[j]\n",
    "            exchange A[j] and A[N]\n",
    "    Output A[N];"
   ]
  },
  {
   "cell_type": "markdown",
   "metadata": {},
   "source": [
    "### Solution:\n",
    "1. As we keep swapping elements at A[N] with A[j] whenever A[N]<A[j], the output will be the largest element in the array.\n",
    "2. As we will iterate through every element in the array once, the running time of this algorithm is O(n) "
   ]
  },
  {
   "cell_type": "markdown",
   "metadata": {},
   "source": [
    "### Q3. \n",
    "Given the input of k sorted arrays, each containing N distinct integers in\n",
    "increasing order, devise an O(kN) algorithm to output the number of integers that\n",
    "occur in each of the k input arrays"
   ]
  },
  {
   "cell_type": "markdown",
   "metadata": {},
   "source": [
    "### Solution:\n",
    "```python\n",
    "# Where A is a 2-d array of k sorted arrays\n",
    "def IntersectingElements(A):\n",
    "    intersection = A[0]\n",
    "    n = len(A[0])\n",
    "    \n",
    "    for i in range(1,len(A)):\n",
    "        currentList = A[i]\n",
    "        # Let i for looping intersection and j for looping currentList \n",
    "        i = 0\n",
    "        j = 0\n",
    "        temp_intersection = []\n",
    "        \n",
    "        while j<n and i<len(intersection):\n",
    "            if currentList[j] == intersection[i]:\n",
    "                temp_intersection.append(currentList[j])\n",
    "                i += 1\n",
    "                j += 1\n",
    "            elif currentList[j] < intersection[i]:\n",
    "                j += 1\n",
    "            else:\n",
    "                i += 1\n",
    "        \n",
    "        intersection = temp_intersection\n",
    "        \n",
    "    return intersection\n",
    "```"
   ]
  },
  {
   "cell_type": "markdown",
   "metadata": {},
   "source": [
    "### Q4. \n",
    "An array A[1..n-1] contains all integers from 0 to n except two numbers.\n",
    "It would be easy to determine to the two missing numbers by using an auxiliary\n",
    "array B[0..n] to record which numbers appear in A. Here, we want to avoid the\n",
    "additional storage of B with the size O(n). Devise an algorithm to determine the\n",
    "two missing integers in O(n) time under this constraint. (Note, you can still use\n",
    "additional constant memory as temporary storage; you should use only\n",
    "comparison operation, but not other operations such as additions and\n",
    "multiplications.)"
   ]
  },
  {
   "cell_type": "markdown",
   "metadata": {},
   "source": [
    "### Solution:\n",
    "\n",
    "Psuedocode for this problem is as following:\n",
    "\n",
    "\n",
    "function getMissingNumbers(A):\n",
    "    # Append -1 two times at the end. -1 denotes blank space\n",
    "    A.append(-1)\n",
    "    A.append(-1)\n",
    "    \n",
    "    for i in (1,len(A)):\n",
    "        val = A[i]\n",
    "        while val != i and val != -1:\n",
    "            temp = A[val]\n",
    "            A[val] = val\n",
    "            A[i] = temp\n",
    "            val = A[i]\n",
    "            \n",
    "    # the -1s are at the position of missing numbers, just print them\n",
    "    for i in (1,len(A)):\n",
    "        if A[i] == -1:\n",
    "            print(A[i])\n"
   ]
  },
  {
   "cell_type": "markdown",
   "metadata": {},
   "source": [
    "### Q5. \n",
    "Let A[1..n] be an array of n distinct numbers. If i < j and A[i] > A[j], then\n",
    "the pair (i, j) is called an inversion of A. a) List the five inversions of the array <2,\n",
    "3, 8, 6, 1>. b) What array with elements from the set {1, 2, …, n} has the most\n",
    "inversions? How many does it have? c) What is the relationship between the\n",
    "running time of insertion sort and the number inversions in the input array?\n",
    "Justify your answer."
   ]
  },
  {
   "cell_type": "markdown",
   "metadata": {},
   "source": [
    "### Solution:\n",
    "\n",
    "a) Following are indices of five inversion pairs of the array <2, 3, 8, 6, 1> : <br>\n",
    "1. (1,5)\n",
    "2. (2,5)\n",
    "3. (3,4)\n",
    "4. (3,5)\n",
    "5. (4,5)"
   ]
  },
  {
   "cell_type": "markdown",
   "metadata": {},
   "source": [
    "b) A descending sorted array would have the most inversions. \n",
    "It will have n-1 inversions for the first element, n-2 for the second and 1 for the second last element.\n",
    "The solution would be 1+2+..n-1 which is **(n-1)(n)/2**"
   ]
  },
  {
   "cell_type": "markdown",
   "metadata": {},
   "source": [
    "c) The running time of insertion sort would be directly proportional to the number of inversions.\n",
    "This is because, in insertion sort all the inversions would be swapped. If there are no inversions, there will be no swapping which means the array is already sorted."
   ]
  },
  {
   "cell_type": "markdown",
   "metadata": {},
   "source": [
    "### Q6\n",
    "You are given two sorted lists of size m and n. Devise an O(log m + log\n",
    "n) time algorithm for computing the kth smallest element in the union of the two\n",
    "list."
   ]
  },
  {
   "cell_type": "markdown",
   "metadata": {},
   "source": [
    "### Solution:\n",
    "\n",
    "Psuedocode for this problem is as following:"
   ]
  },
  {
   "cell_type": "code",
   "execution_count": 86,
   "metadata": {},
   "outputs": [
    {
     "name": "stdout",
     "output_type": "stream",
     "text": [
      "2\n"
     ]
    }
   ],
   "source": [
    "# https://stackoverflow.com/questions/4607945/how-to-find-the-kth-smallest-element-in-the-union-of-two-sorted-arrays\n",
    "\n",
    "def findKsmallest(a,b,k,i,j,step):\n",
    "    a_last = len(a)-1\n",
    "    b_last = len(b)-1\n",
    "    \n",
    "    if k == 2:\n",
    "        if b[j] > a[i+1]:\n",
    "            return a[i+1]\n",
    "        elif a[i] > b[j+1]:\n",
    "            return b[j+1]\n",
    "\n",
    "    if i<=0 or j<=0 or i>=a_last or j>=b_last:\n",
    "        return max(a[i],b[j])\n",
    "    \n",
    "    if a[i] > b[j+1]:\n",
    "        # increase j and decrease i\n",
    "        dist_from_last = len(b)-1-j\n",
    "        step = min(dist_from_last,step,i)\n",
    "        i = i - step\n",
    "        j = j + step\n",
    "        return findKsmallest(a,b,k,i,j,int(step/2))\n",
    "    \n",
    "    elif b[j] > a[i+1]:\n",
    "        # increase i and decrease j\n",
    "        dist_from_last = len(a)-1-i\n",
    "        step = min(dist_from_last,step,j)\n",
    "        i = i + step\n",
    "        j = j - step\n",
    "        return findKsmallest(a,b,k,i,j,int(step/2))\n",
    "    \n",
    "    return max(a[i],b[j])\n",
    "\n",
    "def splitArrays(a,b,k):\n",
    "    m = len(a)\n",
    "    n = len(b)\n",
    "    \n",
    "    if k%2 == 0:\n",
    "        i = int(k/2) \n",
    "        j = int(k/2)\n",
    "    else:\n",
    "        i = int(k/2) + 1\n",
    "        j = int(k/2)\n",
    "        \n",
    "    return i,j\n",
    "\n",
    "\n",
    "# Main program \n",
    "\n",
    "# test case\n",
    "a = [1,2,2,3,5,7,8,19,30]\n",
    "b = [3,4,5,14,16,18] \n",
    "\n",
    "a.insert(0,float(\"-inf\"))\n",
    "a.append(float(\"inf\")) \n",
    "b.insert(0,float(\"-inf\"))\n",
    "b.append(float(\"inf\"))\n",
    "\n",
    "k = 3\n",
    "\n",
    "if k == 1:\n",
    "    print(min(a[1],b[1]))\n",
    "else:\n",
    "    i,j = splitArrays(a,b,k)\n",
    "    print(findKsmallest(a,b,k,i,j,int(k/2)))"
   ]
  },
  {
   "cell_type": "markdown",
   "metadata": {},
   "source": [
    "### Q7\n",
    "Given an array of numbers as the input, devise an algorithm to generate a\n",
    "random permutation of the array, such that each number has equal probability to\n",
    "be placed in each position in the output array."
   ]
  },
  {
   "cell_type": "markdown",
   "metadata": {},
   "source": [
    "https://en.wikipedia.org/wiki/Fisher%E2%80%93Yates_shuffle"
   ]
  },
  {
   "cell_type": "markdown",
   "metadata": {},
   "source": [
    "### Solution:\n",
    "```python\n",
    "def RandomPermutation(A):\n",
    "    for i in range(len(A)):\n",
    "        # Generate a random integer in the range of length of A\n",
    "        j = random integer such that i <= j < n\n",
    "        \n",
    "        # swap the randomly generated index with current index\n",
    "        A[i],A[j] = A[j],A[i] \n",
    "```"
   ]
  }
 ],
 "metadata": {
  "kernelspec": {
   "display_name": "Python 3",
   "language": "python",
   "name": "python3"
  },
  "language_info": {
   "codemirror_mode": {
    "name": "ipython",
    "version": 3
   },
   "file_extension": ".py",
   "mimetype": "text/x-python",
   "name": "python",
   "nbconvert_exporter": "python",
   "pygments_lexer": "ipython3",
   "version": "3.6.5"
  }
 },
 "nbformat": 4,
 "nbformat_minor": 2
}
