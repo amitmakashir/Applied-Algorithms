{
 "cells": [
  {
   "cell_type": "markdown",
   "metadata": {
    "colab_type": "text",
    "id": "QYRaLdBkP4vq"
   },
   "source": [
    "# Assignment 4\n",
    "\n",
    "Graph base class that is used for every other problem"
   ]
  },
  {
   "cell_type": "code",
   "execution_count": 0,
   "metadata": {
    "colab": {},
    "colab_type": "code",
    "id": "I76I3zOHpv83"
   },
   "outputs": [],
   "source": [
    "class GraphNode():\n",
    "    \n",
    "    \n",
    "    def __init__(self,graphNodeId):\n",
    "        self.ID = graphNodeId\n",
    "        self.visited = False\n",
    "        self.distance = 0\n",
    "        self.neighbours = []\n",
    "        self.weights = []\n",
    "        self.parent = None\n",
    "        self.colour = 'White'    \n",
    "        self.startTime = 0\n",
    "        self.endTime = 0\n",
    "        self.set = None ## A or B\n",
    "    \n",
    "    def addNeighbour(self,graphNodeId):\n",
    "        self.neighbours.append(graphNodeId)\n",
    "        \n",
    "    def getNeighbours(self):\n",
    "        \n",
    "        return self.neighbours\n",
    "    \n",
    "    def addWeight(self,weight):\n",
    "        self.weights.append(weight)"
   ]
  },
  {
   "cell_type": "code",
   "execution_count": 0,
   "metadata": {
    "colab": {},
    "colab_type": "code",
    "id": "jxBgwijaqCTW"
   },
   "outputs": [],
   "source": [
    "\n",
    "def buildGraph(numNodes,listOfStrings):\n",
    "    graphDict = {}\n",
    "    for i in range(numNodes):\n",
    "        graphDict[i] = GraphNode(i)\n",
    "        \n",
    "    for graphComb,weight in listOfStrings:\n",
    "        \n",
    "        graphDict[graphComb[0]].addNeighbour(graphComb[1])\n",
    "        graphDict[graphComb[0]].addWeight(weight)\n",
    "        \n",
    "    return graphDict"
   ]
  },
  {
   "cell_type": "markdown",
   "metadata": {
    "colab_type": "text",
    "id": "ej8_-X8RqJS3"
   },
   "source": [
    "## Question 1"
   ]
  },
  {
   "cell_type": "markdown",
   "metadata": {
    "colab_type": "text",
    "id": "smX3XgfxSAXB"
   },
   "source": [
    "#### Description\n",
    "\n",
    "\n",
    "\n",
    "1.   Do a topological sort on DAG which is of complexity O(V+E)\n",
    "2.   In the order of topologically sorted array S check if node $S_{i+1}$ is a child of node $S_{i}$ where $i$ is the index position of the sorted list.\n",
    "\n",
    "      Say [A,C,B,D] \n",
    "      -  check if C is a child of A\n",
    "      -  check if B is child of C\n",
    "      -  check if D is child of B\n",
    "      - So on till the last element of the sorted nodes\n",
    "      Break if any of the above condition is not satisified\n",
    "3. if $S_{i+1}$ is a child of $S_{i}$ for all $i$ then there exists a path which passes through all vertices else there is no such path.\n",
    "4. The above checking takes at most $O(E)$ hence the algorithm is at most O(V+E)\n"
   ]
  },
  {
   "cell_type": "markdown",
   "metadata": {
    "colab_type": "text",
    "id": "XWdvkHEiU4z6"
   },
   "source": [
    "### Pseudo code\n",
    "\n",
    "\n",
    "```\n",
    "### bulid a DAG graph\n",
    "graph = buildGraph(6,listOfConnections)\n",
    "\n",
    "### topologically sort the graph\n",
    "sortedNodes = topologicalSort(graph)\n",
    "\n",
    "def checkExistantPath(sortedNodes,graphDict):\n",
    "    \n",
    "    ##check if (i+1) is child of (i)\n",
    "    \n",
    "    for i in range(len(sortedNodes)-1):\n",
    "        \n",
    "        fromNode = sortedNodes[i]\n",
    "        toNode = sortedNodes[i+1]\n",
    "        \n",
    "        if toNode not in graphDict[fromNode].neighbours:\n",
    "            return False\n",
    "    \n",
    "    return True\n",
    " \n",
    "checkExistantPath(sortedNodes,graph)\n",
    "```\n",
    "\n"
   ]
  },
  {
   "cell_type": "markdown",
   "metadata": {
    "colab_type": "text",
    "id": "YkDhpaZVVsKd"
   },
   "source": [
    "### Code"
   ]
  },
  {
   "cell_type": "code",
   "execution_count": 0,
   "metadata": {
    "colab": {},
    "colab_type": "code",
    "id": "sXsrc9HKqIUA"
   },
   "outputs": [],
   "source": [
    "listOfConnections = [((0,1),1),((1,2),2),((1,5),5),((2,4),4),((2,3),1),((4,5),3)]   ### ((NodeA,NodeB),weight)\n",
    "sortedNodes = []\n",
    "currTime = 0\n",
    "\n",
    "def DFSVisit(graphDict,currNodeID):\n",
    "    global sortedNodes\n",
    "    global currTime\n",
    "    currTime +=1\n",
    "#    print(currNodeID,\" start time \",currTime)\n",
    "    graphDict[currNodeID].visited = True\n",
    "    graphDict[currNodeID].startTime = currTime\n",
    "    \n",
    "    for neighNodeID in graphDict[currNodeID].neighbours:\n",
    "        neigNode = graphDict[neighNodeID]\n",
    "        \n",
    "        if neigNode.visited == False:\n",
    "#            print(\"Visiting \",neigNode.getID())\n",
    "            neigNode.visited = True\n",
    "            \n",
    "            DFSVisit(graphDict,neighNodeID)\n",
    "    \n",
    "    \n",
    "    currTime +=1\n",
    "#    print(currNodeID,\" end time \",currTime)\n",
    "    graphDict[currNodeID].endTime = currTime\n",
    "    sortedNodes.append(currNodeID)\n",
    "    \n",
    "    \n",
    "def DFS(graphDict):\n",
    "    \n",
    "    global currTime\n",
    "    \n",
    "    for nodeID,node in graphDict.items():\n",
    "       \n",
    "        if node.visited == False:\n",
    "            \n",
    "            \n",
    "            DFSVisit(graphDict,node.ID)\n",
    "\n",
    "def topologicalSort(graphDict):\n",
    "    DFS(graphDict)\n",
    "    return sortedNodes\n",
    "  \n",
    "  \n"
   ]
  },
  {
   "cell_type": "code",
   "execution_count": 5,
   "metadata": {
    "colab": {
     "base_uri": "https://localhost:8080/",
     "height": 52
    },
    "colab_type": "code",
    "id": "R3aT3MQrq9As",
    "outputId": "9b99e51b-f16b-425d-c6c6-55971bdb6bb6"
   },
   "outputs": [
    {
     "name": "stdout",
     "output_type": "stream",
     "text": [
      "The nodes in topological order are  [0, 1, 2, 3, 4, 5]\n"
     ]
    },
    {
     "data": {
      "text/plain": [
       "False"
      ]
     },
     "execution_count": 5,
     "metadata": {
      "tags": []
     },
     "output_type": "execute_result"
    }
   ],
   "source": [
    "\n",
    "graph = buildGraph(6,listOfConnections)\n",
    "topologicalSort(graph)\n",
    "sortedNodes = list(reversed(sortedNodes))\n",
    "\n",
    "def checkExistantPath(sortedNodes,graphDict):\n",
    "    \n",
    "    for i in range(len(sortedNodes)-1):\n",
    "        \n",
    "        fromNode = sortedNodes[i]\n",
    "        toNode = sortedNodes[i+1]\n",
    "        ###may need to change this\n",
    "        if toNode not in graphDict[fromNode].neighbours:\n",
    "            return False\n",
    "    \n",
    "    return True\n",
    "    \n",
    "print(\"The nodes in topological order are \", sortedNodes)\n",
    "checkExistantPath(sortedNodes,graph)"
   ]
  },
  {
   "cell_type": "markdown",
   "metadata": {
    "colab_type": "text",
    "id": "h068UA0Yf6Ik"
   },
   "source": [
    "### Question 2"
   ]
  },
  {
   "cell_type": "markdown",
   "metadata": {
    "colab_type": "text",
    "id": "UnOfC3k-f9zT"
   },
   "source": [
    "\n",
    "\n",
    "```\n",
    "For each edge v-t\n",
    "\n",
    "  1. Form a graph that is the same as G, except that edge v-t is removed.\n",
    "  2. Record the shortest path dist(v, t) from v to t using dijkstra (this can be done tracking the parents from t till you arrive at v)\n",
    "\n",
    "  3. If dist(v,t) is not Infinity then there is a cycle\n",
    "  \n",
    "          In the recorded shortest path \n",
    "                   if there was edge e' with weight w(e') in the shortest path less w(v-t)\n",
    "                          - Then remove the edge w(e') from the graph\n",
    "                          - add e' to the set of edges in the feedback set \n",
    "                           - replace edge e(v-t) back into the graph\n",
    "\n",
    "                   else put e(v-t) in the feedback edge set\n",
    "\n",
    "At the end we have Feedback set of edges that are removed\n",
    "```\n",
    "\n"
   ]
  },
  {
   "cell_type": "markdown",
   "metadata": {
    "colab_type": "text",
    "id": "p3xnFBxzstBG"
   },
   "source": [
    "## Question 3"
   ]
  },
  {
   "cell_type": "markdown",
   "metadata": {
    "colab_type": "text",
    "id": "8UwwjQg4WZP9"
   },
   "source": [
    "#### Description\n",
    "\n",
    "\n",
    "1.   Do a DFS on the nodes and assign alternatively Set A and Set B to parent and child \n",
    "2.   In the process if you encounter a node that is visited and has the following conditions,\n",
    "\n",
    "   \n",
    "\n",
    "```\n",
    "   if parentNode.set == 'A' and neighNode.set == 'A':\n",
    "      \n",
    "             return False\n",
    "     \n",
    "    if parentNode.set == 'B' and neighNode.set == 'B':\n",
    "     \n",
    "            return False\n",
    "```\n",
    "\n",
    "\n",
    "3.  If there is no violation of the above rule *return True*\n",
    "\n",
    "This algorithm runs with complexity O(V+E)\n"
   ]
  },
  {
   "cell_type": "markdown",
   "metadata": {
    "colab_type": "text",
    "id": "I40LLnSOYWfN"
   },
   "source": [
    "#### Pseudo Code\n",
    "\n",
    "\n",
    "\n",
    "```\n",
    "def DFSCheck(graphDict,parentNode):\n",
    "\n",
    "\n",
    "    parentNode.visited = True\n",
    "    \n",
    "    for neighNode in parentNode.neighbours:\n",
    "        \n",
    "        \n",
    "        ## assign sets if set is still unassigned\n",
    "        if neighNode.set is None:\n",
    "            if parentNode.set == 'A':\n",
    "                neighNode.set = 'B'\n",
    "            elif parentNode.set == 'B':\n",
    "                neighNode.set = 'A'\n",
    "        \n",
    "        ###  check compliance\n",
    "        elif neighNode.set is not None:\n",
    "            if parentNode.set == 'A' and neighNode.set == 'A':\n",
    "                return False\n",
    "            if parentNode.set == 'B' and neighNode.set == 'B':\n",
    "                return False\n",
    "                \n",
    "        \n",
    "        ##if the node is already note visisted\n",
    "        if neighNode.visited == False:\n",
    "\n",
    "            neighNode.visited = True\n",
    "            DFSCheck(graphDict,neighNode)\n",
    "            \n",
    "            \n",
    "      ## main function which runs DFSCheck on all nodes once  \n",
    "     def isPartitioon(graphDict):\n",
    "    \n",
    "    \n",
    "          for parentNode in graphDict.items():\n",
    "\n",
    "                  \n",
    "                  if parentNode.visited == False:\n",
    "                      ##  if node not visited initialise with set A as the \n",
    "                      node.set = 'A'\n",
    "\n",
    "\n",
    "                  Flag = DFSCheck(graphDict,parentNode)\n",
    "          \n",
    "          if Flag == False:\n",
    "          \n",
    "              return False  \n",
    "           \n",
    "           else:\n",
    "                return True \n",
    "        \n",
    "```\n",
    "\n"
   ]
  },
  {
   "cell_type": "code",
   "execution_count": 0,
   "metadata": {
    "colab": {},
    "colab_type": "code",
    "id": "BLIXhHgasvfR"
   },
   "outputs": [],
   "source": [
    "listOfConnections = [((0,1),1),((1,2),1),((0,3),1),((3,2),1)]\n",
    "    \n",
    "graph = buildGraph(5,listOfConnections)"
   ]
  },
  {
   "cell_type": "code",
   "execution_count": 7,
   "metadata": {
    "colab": {
     "base_uri": "https://localhost:8080/",
     "height": 35
    },
    "colab_type": "code",
    "id": "CiyeX9NWs9Q7",
    "outputId": "e5c76542-c5c3-40ba-d4c7-ea6049ef7c53"
   },
   "outputs": [
    {
     "name": "stdout",
     "output_type": "stream",
     "text": [
      "True\n"
     ]
    }
   ],
   "source": [
    "def DFSCheck(graphDict,currNodeID):\n",
    "\n",
    "    \n",
    "    parentNode = graphDict[currNodeID]\n",
    "    parentNode.visited = True\n",
    "    \n",
    "    for neighNodeID in parentNode.neighbours:\n",
    "        neighNode = graphDict[neighNodeID]\n",
    "        \n",
    "        ## assign sets\n",
    "        if neighNode.set is None:\n",
    "            if parentNode.set == 'A':\n",
    "                neighNode.set = 'B'\n",
    "            elif parentNode.set == 'B':\n",
    "                neighNode.set = 'A'\n",
    "        \n",
    "        ###  check compliance\n",
    "        elif neighNode.set is not None:\n",
    "            if parentNode.set == 'A' and neighNode.set == 'A':\n",
    "                return False\n",
    "            if parentNode.set == 'B' and neighNode.set == 'B':\n",
    "                return False\n",
    "                \n",
    "        \n",
    "        if neighNode.visited == False:\n",
    "\n",
    "            neighNode.visited = True\n",
    "            DFSCheck(graphDict,neighNodeID)\n",
    "            \n",
    "def isPartitioon(graphDict):\n",
    "    \n",
    "    \n",
    "    for nodeID,node in graphDict.items():\n",
    "       \n",
    "        if node.visited == False:\n",
    "            ## initialise with A\n",
    "            node.set = 'A'\n",
    "            \n",
    "            \n",
    "        Flag = DFSCheck(graphDict,node.ID)\n",
    "            \n",
    "    return False if Flag == False else True\n",
    "    \n",
    "print(isPartitioon(graph))\n",
    "    "
   ]
  },
  {
   "cell_type": "markdown",
   "metadata": {
    "colab_type": "text",
    "id": "GTuyrfEbtMBE"
   },
   "source": [
    "### Question 4"
   ]
  },
  {
   "cell_type": "markdown",
   "metadata": {
    "colab_type": "text",
    "id": "zmTtnegtcNO5"
   },
   "source": [
    "#### Description\n",
    "\n",
    "1. Imagine a Graph to be represented in Adjacency matrix\n",
    "2. Collect all the nodes {V'}  that have zero incoming edges i.e in-degree 0 which would be scheduled the first. Basiclly columns in the Adjacency Matrix that are all zero\n",
    "3. Remove the collected nodes from Graph G since they can all be scheduled in a semester\n",
    "4. Now the adjacency matrix reduces to smaller matrix without these nodes\n",
    "5. Repeat 1 to 4 on the reduced adjacency matrix till there are no more vertices left\n",
    "\n",
    "\n",
    "This algorith takes O(V+E) complexity\n"
   ]
  },
  {
   "cell_type": "markdown",
   "metadata": {
    "colab_type": "text",
    "id": "uSV0mUYyfjlJ"
   },
   "source": [
    "\n",
    "#### pseudo code\n",
    "```\n",
    "def assignSemesters(adjacencyMatrix):\n",
    "\n",
    "    ### set of all columns\n",
    "    listOfColumnNames = list(range(len(adjacencyMatrix[0]))) \n",
    "    \n",
    "    listOfSems = []\n",
    "    \n",
    "    while (len(listOfColumnNames)>0): ### runs equal to max V times\n",
    "      \n",
    "        semCourses = []\n",
    "        columnIndices = []\n",
    "        \n",
    "        \n",
    "        for column in range(len(adjacencyMatrix)):\n",
    "            \n",
    "            if sum(adjacencyMatrix[:,column]) == 0: ## no incoming edges\n",
    "                semCourses.append(listOfColumnNames[column])\n",
    "                columnIndices.append(column)\n",
    "        \n",
    "        \n",
    "        ### remove the nodes with in-degree zero\n",
    "        ### remove correspingin columns and rows and update the adjacencyMatrix\n",
    "        ### ~ is negation\n",
    "        adjacencyMatrix = adjacencyMatrix[~columnIndices,~columnIndices]\n",
    "        \n",
    "\n",
    "        ## remove the nodes that are scheduled in this semster\n",
    "        listOfColumnNames = listOfColumnNames - semCourses \n",
    "        \n",
    "        \n",
    "        ###grouped courses\n",
    "        listOfSems.append(semCourses)\n",
    "        \n",
    "        \n",
    "\n",
    "        \n",
    "    return listOfSems\n",
    "\n",
    "```\n",
    "\n"
   ]
  },
  {
   "cell_type": "markdown",
   "metadata": {
    "colab_type": "text",
    "id": "kPMkPlwmh7lG"
   },
   "source": [
    "#### Code"
   ]
  },
  {
   "cell_type": "code",
   "execution_count": 8,
   "metadata": {
    "colab": {
     "base_uri": "https://localhost:8080/",
     "height": 35
    },
    "colab_type": "code",
    "id": "M53GasQCtOd6",
    "outputId": "7b4de0b5-b762-4e4c-c16f-343363761785"
   },
   "outputs": [
    {
     "name": "stdout",
     "output_type": "stream",
     "text": [
      "the semester grouping for the above configuration is : [[0, 1], [2], [3]]\n"
     ]
    }
   ],
   "source": [
    "import numpy as np\n",
    "adjacencyMatrix = np.array([[0,0,0,1],\n",
    "                            [0,0,1,1],\n",
    "                            [0,0,0,1],\n",
    "                            [0,0,0,0]])\n",
    "\n",
    "\n",
    "def assignSemesters(adjacencyMatrix):\n",
    "    \n",
    "    listOfColumnNames = list(range(len(adjacencyMatrix[0]))) ### set of all columns\n",
    "    \n",
    "    listOfSems = []\n",
    "    while (len(listOfColumnNames)>0): ### runs equal to max V times\n",
    "      \n",
    "        semCourses = []\n",
    "        columnIndices = []\n",
    "        for column in range(len(adjacencyMatrix)):\n",
    "            if sum(adjacencyMatrix[:,column]) == 0: ## no incoming edges\n",
    "                semCourses.append(listOfColumnNames[column])\n",
    "                columnIndices.append(column)\n",
    "        \n",
    "        copyAdj = np.delete(adjacencyMatrix,columnIndices,0) ### delete correspingin columns\n",
    "        copyAdj = np.delete(copyAdj,columnIndices,1) ## delete coreesonponding rows\n",
    "        \n",
    "\n",
    "        ## remove rest of the columns\n",
    "        listOfColumnNames = np.delete(listOfColumnNames, columnIndices) \n",
    "        \n",
    "        \n",
    "        adjacencyMatrix = copyAdj\n",
    "        \n",
    "        listOfSems.append(semCourses)\n",
    "        \n",
    "        \n",
    "\n",
    "        \n",
    "    return listOfSems\n",
    "\n",
    "listOfSems = assignSemesters(adjacencyMatrix)\n",
    "\n",
    "print(\"the semester grouping for the above configuration is :\" , listOfSems)\n"
   ]
  },
  {
   "cell_type": "markdown",
   "metadata": {
    "colab_type": "text",
    "id": "m_ctflL7szNr"
   },
   "source": [
    "### Question 5"
   ]
  },
  {
   "cell_type": "markdown",
   "metadata": {
    "colab_type": "text",
    "id": "Qa4nXeJkisQA"
   },
   "source": [
    "This is wrong and proved by the following counter example\n",
    "\n",
    "In the ***fig1*** with negative edges,\n",
    "\n",
    " - For the path A -> B -> C  the path length is 2.\n",
    "\n",
    " - For the path A -> D -> E -> C the path length is -6.\n",
    " \n",
    " The shortest path is  A -> D -> E -> C \n",
    "\n",
    "Now lets add +10 to all the edges so that every edge is now positive which results in ***fig2***\n",
    "\n",
    "- For the path A -> B -> C  the path length is 22.\n",
    "- For the path A -> D -> E -> C the path length is 24.\n",
    "\n",
    " The shortest path is A -> B -> C not as before  hence the solutions are not the same if you offset the paths by large positive number\n"
   ]
  },
  {
   "cell_type": "markdown",
   "metadata": {
    "colab_type": "text",
    "id": "Bj6YsOCis3VU"
   },
   "source": [
    "### Question 6"
   ]
  },
  {
   "cell_type": "markdown",
   "metadata": {
    "colab_type": "text",
    "id": "LQBA2wOJs6I5"
   },
   "source": [
    "\n",
    "\n",
    "```\n",
    "for each node in graph as source node (s):\n",
    "\n",
    "      1. Run Dijkstra on the Graph with source as 's'\n",
    "      2. We would have now computed distances  d(s,t) from the source node to all other target nodes (t)\n",
    "      3. Compute the all the cycle distances starting at 's' and ending at 's'\n",
    "             cycleLength = d(s,t) + weight(t,v)\n",
    "             Note: if edge E(t -> v) is not existant add weight(t,v) as infinity\n",
    "      \n",
    "      4. Append all the cycleLenghts in a list\n",
    "  \n",
    "Finally find:\n",
    "minCycle = min(cycleLengths)\n",
    "\n",
    "if min(cycleLengths) == Infinty \n",
    "      return 'NoCycle'\n",
    "else:\n",
    "    return minCycle\n",
    "      \n",
    "            \n",
    "      \n",
    "```\n",
    "\n"
   ]
  },
  {
   "cell_type": "markdown",
   "metadata": {
    "colab_type": "text",
    "id": "sIAe6DOGC5W_"
   },
   "source": [
    "\n",
    "\n",
    "1.   The outer loop in the **findShortestCycle** runs on every vertex in graph\n",
    "2.   Inside this loop **dijkstra** runs , which takes $O(V^2)$ when prioprty queue is implemented as a simple array\n",
    "3. Inner loop also runs on each vertex in the graph hence $O(V)$\n",
    "Hence total complexity is $V*O(V^2) + O(V^2)$ ie $O(V^3)$\n",
    "\n"
   ]
  },
  {
   "cell_type": "code",
   "execution_count": 0,
   "metadata": {
    "colab": {
     "base_uri": "https://localhost:8080/",
     "height": 35
    },
    "colab_type": "code",
    "id": "-ZcjFr9Ms1tQ",
    "outputId": "9fb72c38-5864-489f-ed84-791f70c27fee"
   },
   "outputs": [
    {
     "name": "stdout",
     "output_type": "stream",
     "text": [
      "the shortest cycle is  4\n"
     ]
    }
   ],
   "source": [
    "\n",
    "listOfConnections = [((0,1),2),((1,2),1),((0,3),1),((3,2),1),((2,0),2),((4,5),1)]\n",
    "\n",
    "graph = buildGraph(6,listOfConnections)\n",
    "\n",
    "def initialiseSourceAndGraph(sourceID,graph):  \n",
    "\n",
    "    for nodeID in graph:\n",
    "        if nodeID == sourceID:\n",
    "            graph[nodeID].distance = 0\n",
    "        else:\n",
    "            graph[nodeID].distance = float('inf')\n",
    "    return graph\n",
    "\n",
    "def relax(parentNode,childNode,weight):\n",
    "    \n",
    "    \n",
    "    if childNode.distance > (parentNode.distance + weight):\n",
    "       childNode.distance = parentNode.distance + weight\n",
    "        \n",
    "def dijkstra(sourceNodeID,graph):\n",
    "    \n",
    "    initialiseSourceAndGraph(sourceNodeID,graph) ## makes source 0 and allother distances as infinity\n",
    "\n",
    "    prioityQueue = graph.copy() ### not a deep copy \n",
    "    \n",
    "    while len(prioityQueue) > 0:\n",
    "        \n",
    "        ### extract min\n",
    "        ## prirority queue implemented as array\n",
    "        minDistNodeID = min(prioityQueue, key = lambda i:  prioityQueue[i].distance) \n",
    "        del prioityQueue[minDistNodeID]\n",
    "    \n",
    "        for childNodeID,weight in zip(graph[minDistNodeID].neighbours,graph[minDistNodeID].weights):\n",
    "            \n",
    "            parentNode = graph[minDistNodeID]\n",
    "            childNode = graph[childNodeID]\n",
    "            relax(parentNode,childNode,weight)\n",
    "            \n",
    "\n",
    "def findShortestCycle(graph):\n",
    "    cycleLenghts = []\n",
    "    for startVertex in graph: ## on every vertex as source run dijkstra\n",
    "      \n",
    "        dijkstra(startVertex,graph)\n",
    "        \n",
    "        for endVertex in graph:\n",
    "            weight = float('inf')\n",
    "            \n",
    "            if startVertex in graph[endVertex].neighbours:\n",
    "                weightIndex = graph[endVertex].neighbours.index(startVertex)\n",
    "                weight =  graph[endVertex].weights[weightIndex]\n",
    "                \n",
    "            cycleLength = weight + graph[endVertex].distance ## record cycle lengths\n",
    "            cycleLenghts.append(cycleLength)\n",
    "\n",
    "    shortest = min(cycleLenghts) ## get the minimum possible cycle lengths if any\n",
    "    if shortest == float('inf'):\n",
    "        return 'No Cycle'\n",
    "    else:\n",
    "        return shortest\n",
    "    \n",
    "print(\"the shortest cycle is \",findShortestCycle(graph))"
   ]
  }
 ],
 "metadata": {
  "colab": {
   "collapsed_sections": [],
   "name": "Applied Algos Assign 4.ipynb",
   "provenance": [],
   "version": "0.3.2"
  },
  "kernelspec": {
   "display_name": "Python 3",
   "language": "python",
   "name": "python3"
  },
  "language_info": {
   "codemirror_mode": {
    "name": "ipython",
    "version": 3
   },
   "file_extension": ".py",
   "mimetype": "text/x-python",
   "name": "python",
   "nbconvert_exporter": "python",
   "pygments_lexer": "ipython3",
   "version": "3.6.5"
  }
 },
 "nbformat": 4,
 "nbformat_minor": 1
}
