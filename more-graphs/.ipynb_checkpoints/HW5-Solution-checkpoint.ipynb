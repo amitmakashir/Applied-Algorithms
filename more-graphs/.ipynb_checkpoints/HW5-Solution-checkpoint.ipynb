{
 "cells": [
  {
   "cell_type": "markdown",
   "metadata": {},
   "source": [
    "## Homework 5\n",
    "### - Amit Makashir"
   ]
  },
  {
   "cell_type": "markdown",
   "metadata": {},
   "source": [
    "### Q1. \n",
    "Show how to find the maximum spanning tree of a graph, which is the\n",
    "spanning tree of the largest total weight."
   ]
  },
  {
   "cell_type": "markdown",
   "metadata": {},
   "source": [
    "### Solution:\n",
    "\n",
    "In Kruskal's algorithm, we sort the edges in ascending order to build the spanning tree. If we reverse this step and instead sort the edges in descending order to build the spanning tree, the resulting spanning tree will be a maximum spanning tree. \n",
    "\n",
    "The pseudocode for this algorithm is given below:\n",
    "\n",
    "\n",
    "V => a list of all the vertices of this graph\n",
    "E => a list of tuples containing the vertices and edge weight $(u_i,v_i,w_i)$\n",
    "\n",
    "```python\n",
    "def Max_spanning_tree(V,E):\n",
    "    E = sort_desc(E)  # sort on w for each weight\n",
    "    A = []\n",
    "    \n",
    "    for u,v,w in E:\n",
    "        # Add this edge only if their parents are different\n",
    "        # Otherwise you'll get a cycle\n",
    "        if Find(u) != Find(v):  \n",
    "            A.append((u,v,w))\n",
    "            # Combine these trees, make their parents same\n",
    "            Union(u,v)\n",
    "    # A is the list of edges to be included in the maximum spanning tree\n",
    "    return A\n",
    "```"
   ]
  },
  {
   "cell_type": "markdown",
   "metadata": {},
   "source": [
    "### Q2\n",
    "Consider an undirected graph G = (V, E) with nonnegative edge weights\n",
    "$w_e$. Suppose that you have computed a minimum spanning tree of $G$, and that you\n",
    "have also computed shortest paths to all nodes from a particular node $s$. Now\n",
    "suppose each edge weight is increased by 1; the new weights are $w’_e$ = $w_e$ + 1.\n",
    "\n",
    "(a) Does the minimum spanning tree change? Give an example where it changes or\n",
    "prove it cannot change.\n",
    "\n",
    "(b) Do the shortest paths change? Give an example where they change or prove they\n",
    "cannot change."
   ]
  },
  {
   "cell_type": "markdown",
   "metadata": {},
   "source": [
    "### Solution:\n",
    "\n",
    "#### a) \n",
    "The minimum spanning tree will change if the order of edges change. As we are incrementing the weight of edges by 1, the sorted order will remain the same and hence *the minimum spanning tree will not change*.  \n",
    "\n",
    "#### b)\n",
    "It is possible that the shortest paths to change. An example for such a scenario would be as follows: <br>\n",
    "Let the edge $e_1$ be $(u,v,4)$ .... $(node1,node2,edgeweight)$<br>\n",
    "Let the edge $e_2$ be $(u,x,1)$ <br>\n",
    "Let the edge $e_3$ be $(x,y,1)$ <br>\n",
    "Let the edge $e_4$ be $(y,v,1)$ <br>\n",
    "\n",
    "The shortest path from $u$ to $v$ is is through $x$ and $y$ <br>\n",
    "($u$ -> $x$ -> $y$ -> $v$) => (Total weight: 1+1+1 = **3**) <br>\n",
    "($u$ -> $v$) => (Total weight: **4**)\n",
    "\n",
    "However, after incrementing by 1, we can see that the shortest path from u to v is through edge $e_1$.<br>\n",
    "($u$ -> $x$ -> $y$ -> $v$) => (Total weight: 2+2+2 = **6**) <br>\n",
    "($u$ -> $v$) => (Total weight: **5**)\n"
   ]
  },
  {
   "cell_type": "code",
   "execution_count": null,
   "metadata": {},
   "outputs": [],
   "source": []
  }
 ],
 "metadata": {
  "kernelspec": {
   "display_name": "Python 3",
   "language": "python",
   "name": "python3"
  },
  "language_info": {
   "codemirror_mode": {
    "name": "ipython",
    "version": 3
   },
   "file_extension": ".py",
   "mimetype": "text/x-python",
   "name": "python",
   "nbconvert_exporter": "python",
   "pygments_lexer": "ipython3",
   "version": "3.6.5"
  }
 },
 "nbformat": 4,
 "nbformat_minor": 2
}
