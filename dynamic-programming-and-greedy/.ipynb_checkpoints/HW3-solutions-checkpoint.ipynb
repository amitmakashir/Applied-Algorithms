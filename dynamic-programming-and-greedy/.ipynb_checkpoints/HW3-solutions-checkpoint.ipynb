{
 "cells": [
  {
   "cell_type": "markdown",
   "metadata": {},
   "source": [
    "## Homework 3\n",
    "### - Amit Makashir"
   ]
  },
  {
   "cell_type": "markdown",
   "metadata": {},
   "source": [
    "### Question 1\n",
    "Suppose two teams A and B are playing a match to see who is the first to\n",
    "win n games (from given n). Assume that A and B are equally competent, so each\n",
    "has a 50% chance of winning any particular game. Suppose they have already\n",
    "played i+j games, of which A won i and B has won j. Given an efficient algorithm\n",
    "to compute the probability that A will go on to win the match. For example, if\n",
    "i=n-1 and j=n-3 then the probability that A will win the match is 7/8, since it must\n",
    "win any of the next three games."
   ]
  },
  {
   "cell_type": "markdown",
   "metadata": {},
   "source": [
    "### Solution:\n",
    "\n",
    "The basic idea for this approach is to create a two paths each time, one where A wins and one where B wins. We then recursively keep exploring this path until either A or B wins the match and propagate these results back to our starting point\n",
    " \n",
    "```python\n",
    "\n",
    "# Stores all the results that have been calculated in this dictionary\n",
    "winning_probs = {}\n",
    "\n",
    "def probability(i,j,n):\n",
    "    pA = 0.5  # Probability of A and B winning a match is 0.5\n",
    "    pB = 0.5\n",
    "    \n",
    "    if i == n:\n",
    "        return 1\n",
    "    elif j == n:\n",
    "        return 0\n",
    "\n",
    "    if (i,j) in winning_probs: # If the result for this match was calculated, use that\n",
    "        return winning_probs[(i,j)]\n",
    "    else:\n",
    "        # There are two cases here, either A wins this match or B\n",
    "        Awinsthis = pA*probability(i+1,j,n)\n",
    "        Bwinsthis = pB*probability(i,j+1,n) # B wins this game, but ultimately A wins the match\n",
    "        \n",
    "        winning_probs[(i,j)] = Awinsthis + Bwinsthis\n",
    "        return Awinsthis + Bwinsthis\n",
    "        \n",
    "        \n",
    "    \n",
    "```"
   ]
  },
  {
   "cell_type": "markdown",
   "metadata": {},
   "source": [
    "### Question 2\n",
    "Give an O(nt) algorithm for the following task.\n",
    "Input: a list of n positive integers a1, a2, …, an; a positive integer t.\n",
    "Question: does some subset of the ai’s add up to t?"
   ]
  },
  {
   "cell_type": "markdown",
   "metadata": {},
   "source": [
    "We can use a Dynamic programming approach where we can either use the current element and or drop it and check the if total sum parameter becomes zero\n",
    "\n",
    "``` python\n",
    "subset_found = {}\n",
    "subset_indexes = []\n",
    "t = \"Total sum for the subset\"\n",
    "A = \"array of ints (given)\"\n",
    "i = \"Find this subset till this index\"\n",
    "\n",
    "def getSumSubset(i,t,A):\n",
    "    \n",
    "    if t > 0 and i < 0: # If we used all the elements and there is still total sum\n",
    "        return False\n",
    "    \n",
    "    elif t == 0: # if rest of total sum is zero \n",
    "        return True\n",
    "    \n",
    "    if t < 0 : # If the total sum becomes negative\n",
    "        return False\n",
    "    \n",
    "    # There are 2 parameters to max function:\n",
    "    # 1. Consider this element\n",
    "    # 2. Don't consider this element\n",
    "    subset_found[(i,t)] = max(getSumSubset(i-1,t-A[i],A),getSumSubset(i-1,t,A))\n",
    "\n",
    "    return subset_found[(i,t)]\n",
    "```   "
   ]
  },
  {
   "cell_type": "markdown",
   "metadata": {},
   "source": [
    "### Question 3\n",
    "Consider the following problem: given an array A with n numbers A[1],\n",
    "A[2], …, A[n], find two numbers A[i] and A[j], i < j, whose difference A[j] – A[i]\n",
    "is maximum. a) devise a divide-and-conquer algorithm to solve the problem; what\n",
    "is the running time complexity? B) devise a dynamic programming algorithm to\n",
    "solve it. What is the running time complexity."
   ]
  },
  {
   "cell_type": "markdown",
   "metadata": {},
   "source": [
    "We can check which was the min. element before the current index for the given array. We then calculate difference for all and check which difference is max.\n",
    "\n",
    "```python \n",
    "\n",
    "# Let A be our array of numbers\n",
    "\n",
    "def maxDifference(A):\n",
    "    min_elements = []\n",
    "    n = len(A)\n",
    "    \n",
    "    for i in range(n):\n",
    "        # If this is the first element, just push to the array\n",
    "        if len(min_elements) == 0:  \n",
    "            min_elements.append(i)\n",
    "        \n",
    "        # Else compare this element and previous min element, and store the min amongst these\n",
    "        else:\n",
    "            prev_min_index = min_elements[-1]\n",
    "            \n",
    "            # Check if the last element is smaller the min element before that\n",
    "            if A[i-1] > A[prev_min_index]:\n",
    "                min_elements.append(prev_min_index)\n",
    "            else:\n",
    "                min_elements.append(i-1)\n",
    "                \n",
    "    max_diff = 0\n",
    "    min_index = 0\n",
    "    max_index = 0\n",
    "    \n",
    "    for i in range(n):\n",
    "        diff = A[i] - A[min_elements[i]]\n",
    "        \n",
    "        if diff > max_diff: # If this difference is max till now, update the max diff and indexes\n",
    "            max_diff = diff\n",
    "            min_index = min_elements[i]\n",
    "            max_index = A[i]\n",
    "    \n",
    "    return max_diff,min_index,max_diff\n",
    "\n",
    "```\n"
   ]
  },
  {
   "cell_type": "code",
   "execution_count": null,
   "metadata": {},
   "outputs": [],
   "source": []
  }
 ],
 "metadata": {
  "kernelspec": {
   "display_name": "Python 3",
   "language": "python",
   "name": "python3"
  },
  "language_info": {
   "codemirror_mode": {
    "name": "ipython",
    "version": 3
   },
   "file_extension": ".py",
   "mimetype": "text/x-python",
   "name": "python",
   "nbconvert_exporter": "python",
   "pygments_lexer": "ipython3",
   "version": "3.6.5"
  }
 },
 "nbformat": 4,
 "nbformat_minor": 2
}
