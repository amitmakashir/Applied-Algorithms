{
 "cells": [
  {
   "cell_type": "markdown",
   "metadata": {},
   "source": [
    "## Homework 3\n",
    "### - Amit Makashir "
   ]
  },
  {
   "cell_type": "markdown",
   "metadata": {},
   "source": [
    "### Q1. \n",
    "Illustrate the operation of extracting the maximum element on the binary heap A=<15, 13, 9, 5, 12, 8, 7, 4, 0, 6, 2, 1>;\n"
   ]
  },
  {
   "cell_type": "markdown",
   "metadata": {},
   "source": [
    "1. The root node in a max binary heap is the maximum element in the heap \n",
    "\n",
    "![alt text](q11.jpg \"Title\")\n",
    "\n",
    "2. Extract the root node and swap it with the last element in the heap, in this case 1. Now delete this element \n",
    "![alt text](q12.jpg \"Title\")\n",
    "\n",
    "3. We swapped the position, but now the heap condition is not satisfied at some points. 1 less than 13 and 9 and yet is the parent of these elements. Let's do sift down operation to restore this heap. We compare 1 with 13 and 9, as 13 is largest amongst these, we swap 1 with 13\n",
    "![alt text](q13.jpg \"Title\")\n",
    "\n",
    "4. Now amongst 5 and 12, 12 is greater so we swap 1 with 12. Then amongst 6 and 2, 6 is greater so swap 1 by 6.\n",
    "![alt text](q14.jpg \"Title\")"
   ]
  },
  {
   "cell_type": "markdown",
   "metadata": {},
   "source": [
    "### Q2\n",
    "You are given an array of n elements, and you notice that some of these\n",
    "elements are duplicates; that is they appear more than one time in the array.\n",
    "Devise an algorithm to remove all duplicates from the array in time O(n log n)."
   ]
  },
  {
   "cell_type": "markdown",
   "metadata": {},
   "source": [
    "```python\n",
    "def RemoveDuplicates(array):\n",
    "    minheap = Heap.buildHeap(array) # Create a min-heap of the array\n",
    "    \n",
    "    unique_list = [] # Create an empty array where non-duplicates would be stored \n",
    "    \n",
    "    for i -> [0,length(array)-1]:\n",
    "        min_element = minheap.extractMin() # Extracts the root node, deletes it and does the sift down \n",
    "        \n",
    "        if i == 0: # For the first iteration just push it to the unique list\n",
    "            unique_list.append(min_element)\n",
    "        \n",
    "        else:\n",
    "            # If the last element pushed in the unique_list array is not this element, push this element \n",
    "            if unique_list[-1] != min_element: \n",
    "                unique_list.append(min_element)\n",
    "        \n",
    "    return unique_list  \n",
    "\n",
    "```"
   ]
  },
  {
   "cell_type": "markdown",
   "metadata": {},
   "source": [
    "### Q3\n",
    "A sequence of n operations is performed on a data structure. The ith\n",
    "operation costs i if i is an exact power of 2, and 1 otherwise. Use aggregate\n",
    "analysis to determine the amortized cost per operation.\n"
   ]
  },
  {
   "cell_type": "markdown",
   "metadata": {},
   "source": [
    "Let's analyse the amortized cost per operation in two parts:\n",
    "\n",
    "1. If $i^{th}$ the operation is not an exact power of 2, it requires 1 cost. Therefore, time complexity for such operations would be $$\\sum_{i=1}^{N} 1 = N$$\n",
    "\n",
    "2. For the other operations, the time complexity would be:\n",
    "$$ = \\sum_{i=1}^{log_2 N} 2^i $$\n",
    "\n",
    "(solving for the sum of a geometric progression with r (common ratio) = 2, $a_1$=2 )\n",
    "$$ = 2(1 - 2^{(log_2 N)})/ (1 - 2) $$\n",
    "$$ = 2(2^{(log_2 N)} - 1)$$\n",
    "$$ = 2(N - 1)$$\n",
    "\n",
    "\n",
    "If we add these two costs, we would get:\n",
    "$$(N + 2(N - 1)) = 3N - 2 = O(n)$$\n",
    "\n",
    "To calculate the amortized cost per operation, we will divide by N to get $O(1)$\n"
   ]
  },
  {
   "cell_type": "markdown",
   "metadata": {},
   "source": [
    "### Q4\n",
    "A sequence of stack operations is performed on a stack whose size never\n",
    "exceeds k. After every k operations, a copy of the entire stack is made for backup\n",
    "purposes. Show that the cost of n stack operations, including copying the stack, is\n",
    "O(n) by assigning suitable amortized costs to the various stack operations."
   ]
  },
  {
   "cell_type": "markdown",
   "metadata": {},
   "source": [
    "Let's say that it takes at the most \"k\" cost for copying the stack after k operations. (As the length of the stack never exceeds k)\n",
    "\n",
    "1. The stack operations (Push, Pop, Multipop) take constant time per operation, Therefore time complexity for N such operations would be:\n",
    "$$\\sum_{i=1}^{N} O(1) = O(n)$$\n",
    "\n",
    "2. After k operations we will copy this stack, so the time complexity for this operation would be:\n",
    "$$\\sum_{i=1}^{N/k} O(k) = (N/k)*O(k) = O(n)$$\n",
    "\n",
    "Thus, the total cost of n stack operations, including copying the stack, is $O(n)$"
   ]
  },
  {
   "cell_type": "markdown",
   "metadata": {},
   "source": [
    "### Q5\n",
    "Suppose we wish not only to increment a counter but also to reset it to\n",
    "zero (i.e., make all bits in it 0). Show how to implement a counter as an array of\n",
    "bits so that any sequence of increment or reset operations takes time O(n) on an\n",
    "initially zero counter"
   ]
  },
  {
   "cell_type": "markdown",
   "metadata": {},
   "source": [
    "a = # of increment operations (takes constant cost per operation)\n",
    "\n",
    "b = # of resets (takes **k** cost, where k is the number of bits it has to traverse)\n",
    "\n",
    "The total number of bits involved can be written as $k = log_2(a-b+1)$.  \n",
    "\n",
    "We know,  $ a + b = n$\n",
    "\n",
    "The total cost would be:\n",
    "$$ = a*1 + b*k$$\n",
    "$$ = n - b + b*log_2(a-b+1)$$\n",
    "$$ = n - b + b*log_2(n-b-b+1)$$\n",
    "$$ = n - b + b*log_2(n-2b+1)$$\n",
    "\n",
    "The upper bound of this function depends on b and the upper bound for b is n/2\n",
    "$$ = n/2 + n/2*log_2(n-n+1)$$\n",
    "$$ = n/2 + n/2*log_2(1)$$\n",
    "$$ = n/2 $$\n",
    "\n",
    "Therefore, any sequence of increment or reset operations takes time $O(n)$ on an initially zero counter."
   ]
  },
  {
   "cell_type": "markdown",
   "metadata": {},
   "source": [
    "### Q6\n",
    "Assuming that we begin with a stack with $s_0$  objects and after executing $n$ of the stack operations PUSH, POP, and MULTIPOP, the stack ends up with $s_n$ objects, we claim that the total cost of such operations is no more than $2n$ + $s_0$ - $s_n$  . Please explain why."
   ]
  },
  {
   "cell_type": "markdown",
   "metadata": {},
   "source": [
    "We can perform 3 different types of operations:\n",
    "1. Multipop - let's say we do **a** number of Multipop operations (Time complexity: $O(k)$)\n",
    "2. Pop - we do **b** pop operations (Time complexity: $O(1)$)\n",
    "3. Push - we do **c** push operations (Time complexity: $O(1)$)\n",
    "\n",
    "So, our total costs would be:\n",
    "$$ = a*k + b*1 + c*1 $$  $$.. eq(1)$$\n",
    "\n",
    "We know the total operations are $a+b+c = n$\n",
    "\n",
    "We also that difference of number of pushed elements and popped elements would be $(s_n - s_0)$ \n",
    "$$ c - (a*k + b) = s_n - s_0 $$\n",
    "$$ a*k + b = c - s_n + s_0 $$\n",
    "$$.. eq(2) $$\n",
    "\n",
    "Substituting eq(2) in eq(1), we get:\n",
    "$$ = 2c + s_0 - s_n $$\n",
    "\n",
    "\n",
    "Thus, the total cost depends on **c** i.e the number of push operations. The upper bound on c is the total number of operations i.e **n** (there are only push operations, no pop or multipop). \n",
    "\n",
    "\n",
    "Therefore, the total cost can never exceed $ 2n + s_0 - s_n $ \n"
   ]
  },
  {
   "cell_type": "markdown",
   "metadata": {},
   "source": [
    "### Q7\n",
    "Illustrate the insertion of the keys 5, 28, 19, 15, 20, 33, 12, 17, 10 into a\n",
    "hash table with collisions resolved by chaining. Let the table has 9 slots, and let\n",
    "the hash function be h(k) = k mod 9."
   ]
  },
  {
   "cell_type": "markdown",
   "metadata": {},
   "source": [
    "1. 5 mod 9 = 5. Let's place 5 in the 5th slot \n",
    "2. 28 mod 9 = 1. Let's place 28 in the first slot\n",
    "3. 19 mod 9 = 1. Let's place 19 in the first slot after 28\n",
    "4. 15 mod 9 = 6. Let's place 15 in the 6th slot\n",
    "5. 20 mod 9 = 2. Let's place 2 in 2nd slot\n",
    "6. 33 mod 9 = 6. Let's place 33 in 6th slot\n",
    "7. 17 mod 9 = 8. Let's place 17 in 8th slot\n",
    "8. 10 mod 9 = 1. Let's place 10 in first slot\n",
    "\n",
    "Below is an image representing what the Hashtable might look like after inserting these keys\n",
    "\n",
    "\n",
    "![alt text](hastable.jpg \"Depth = 2\")"
   ]
  },
  {
   "cell_type": "markdown",
   "metadata": {},
   "source": [
    "### Q8\n",
    "For the set of {1, 4, 5, 10, 16, 17, 21} of keys, draw binary search trees of\n",
    "height 2, 3, 4, 5, and 6."
   ]
  },
  {
   "cell_type": "markdown",
   "metadata": {},
   "source": [
    "#### Depth = 2:\n",
    "![alt text](q81.jpg \"Depth = 2\")\n",
    "\n",
    "#### Depth = 3:\n",
    "![alt text](q82.jpg \"Depth = 3\")\n",
    "\n",
    "#### Depth = 4:\n",
    "![alt text](q83.jpg \"Depth = 4\")\n",
    "\n",
    "\n",
    "#### Depth = 5:\n",
    "![alt text](q84.jpg \"Depth = 4\")\n",
    "\n",
    "#### Depth = 6:\n",
    "![alt text](q85.jpg \"Depth = 6\")"
   ]
  },
  {
   "cell_type": "markdown",
   "metadata": {},
   "source": [
    "### Q9\n",
    "Suppose that the search for the key k in a binary search tree ends up in a\n",
    "leaf. Consider three sets: 1) the keys to the left of the search path; 2) the keys on\n",
    "the search path; 3) the keys to the right of the search path. One claims that any\n",
    "three keys a, b and c from these three sets, respectively (say a from 1, b from 2\n",
    "and c from 3), it is always true that a ≤ b ≤ c. Is this claim true? Explain your\n",
    "answer."
   ]
  },
  {
   "cell_type": "markdown",
   "metadata": {},
   "source": [
    "In the below image, let's say we are searching for **\"1\"**.  \n",
    "\n",
    "The red nodes are the search path for us in this case i.e they belong to set 2. \n",
    "\n",
    "All the other nodes in this case belong to set 3. \n",
    "\n",
    "5 belongs in set 3 and 10 belongs to set 2, but 5 is not greater than or equal to 10. \n",
    "\n",
    "Therefore, it is not always true that  $ a <= b <= c $\n",
    "\n"
   ]
  },
  {
   "cell_type": "markdown",
   "metadata": {},
   "source": [
    "![alt text](q92.jpg \"Depth = 6\")"
   ]
  },
  {
   "cell_type": "markdown",
   "metadata": {},
   "source": [
    "### Q10\n",
    "We can sort a given set of n numbers by first building a binary search tree\n",
    "containing these numbers (using Tree_insert algorithm repeatedly to insert the\n",
    "numbers one by one) and then printing the number in an inorder tree walk. What\n",
    "are the worst-case and best-case running times for this sorting algorithm?"
   ]
  },
  {
   "cell_type": "markdown",
   "metadata": {},
   "source": [
    "There are two parts to this sorting algorithm:\n",
    "1. Building the Binary search tree by inserting elements one after the other\n",
    "2. Traversing (and printing) these numbers in an inorder tree walk\n",
    "\n",
    "Part 2 requires us to visit every node and print in a particular sequence. This process take $O(n)$ time complexity.\n",
    "Part 1 inserts an element in the BST which takes $O(logn)$ (if the tree is balanced). We do this n times, so the complexity becomes $O(nlogn)$. This is the best case running time for this algorithm.\n",
    "\n",
    "If the array is sorted (ascending or descending) the generated binary search tree would be heavily imbalanced and would look like a linked list. The insertion operation in such a tree takes $O(n)$. Inserting n elements thus would require $O(n^2)$.\n",
    "\n",
    "For the best case, the array would have the following sequence:\n",
    "1. The first element of the array is the median of the entire array\n",
    "2. Imagine the entire array being sorted. The left sub-array would be elements smaller than median. The second element should be median of this sub-array.\n",
    "3. Similarly, third element would median of the right sub-array.\n",
    "4. All the other elements occur in the similar pattern.\n",
    "\n",
    "This will create a balanced BST and would make the time complexity of the algorithm $O(nlogn)$\n",
    "\n",
    "\n",
    "\n"
   ]
  }
 ],
 "metadata": {
  "kernelspec": {
   "display_name": "Python 3",
   "language": "python",
   "name": "python3"
  },
  "language_info": {
   "codemirror_mode": {
    "name": "ipython",
    "version": 3
   },
   "file_extension": ".py",
   "mimetype": "text/x-python",
   "name": "python",
   "nbconvert_exporter": "python",
   "pygments_lexer": "ipython3",
   "version": "3.6.5"
  }
 },
 "nbformat": 4,
 "nbformat_minor": 2
}
